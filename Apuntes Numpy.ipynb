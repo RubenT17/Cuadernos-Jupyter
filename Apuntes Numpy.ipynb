{
 "cells": [
  {
   "cell_type": "markdown",
   "metadata": {},
   "source": [
    "# <h1><center>**FUNCIONES ELEMENTALES DE NUMPY**</center></h1>\n",
    "\n"
   ]
  },
  {
   "cell_type": "markdown",
   "metadata": {},
   "source": [
    "### Introducción\n"
   ]
  },
  {
   "cell_type": "markdown",
   "metadata": {},
   "source": [
    "NumPy es una librería que proporciona una estructura de datos en forma matricial y que tiene varias ventajas sobre las listas normales de Python.\n"
   ]
  },
  {
   "cell_type": "markdown",
   "metadata": {},
   "source": [
    "Esto se puede comprobar en el siguiente ejemplo:\n"
   ]
  },
  {
   "cell_type": "code",
   "execution_count": 3,
   "metadata": {},
   "outputs": [],
   "source": [
    "import numpy as np\n",
    "import sys, time"
   ]
  },
  {
   "cell_type": "code",
   "execution_count": 2,
   "metadata": {},
   "outputs": [
    {
     "name": "stdout",
     "output_type": "stream",
     "text": [
      "Resultado memoria ocupada listas de Python:\n",
      "28000\n",
      "\n",
      "Resultado memoria ocupada Numpy array:\n",
      "4000\n",
      "\n",
      "Resultado tiempo listas de Pyhton\n",
      "277.9374122619629 ms\n",
      "\n",
      "Resultado tiempo Numpy array:\n",
      "49.69501495361328 ms\n"
     ]
    }
   ],
   "source": [
    "S = range(1000)\n",
    "print(\"Resultado memoria ocupada listas de Python:\")\n",
    "print(f'{sys.getsizeof(5)*len(S)}' + \"\\n\")\n",
    "D = np.arange(1000)\n",
    "print(\"Resultado memoria ocupada Numpy array:\")\n",
    "print(f'{D.size*D.itemsize}' + \"\\n\")\n",
    "\n",
    "\n",
    "SIZE = 1000000\n",
    "L1 = range(SIZE)\n",
    "L2 = range(SIZE)\n",
    "A1 = np.arange (SIZE)\n",
    "A2 = np.arange (SIZE)\n",
    "start = time.time()\n",
    "result=[(x,y) for x,y in zip(L1,L2)]\n",
    "print(\"Resultado tiempo listas de Pyhton\")\n",
    "print(f'{(time.time()-start)*1000}' + \" ms\\n\")\n",
    "start = time.time()\n",
    "result=A1+A2\n",
    "print(\"Resultado tiempo Numpy array:\")\n",
    "print(f'{(time.time()-start)*1000}' + \" ms\")"
   ]
  },
  {
   "cell_type": "markdown",
   "metadata": {},
   "source": [
    "Como se puede comprobar, las matrices de NumPy son más rápidas y ocupan menos memoria. Esto se debe a que esta librería está optimizada para trabajar con matrices.\n",
    "\n",
    "\n"
   ]
  },
  {
   "cell_type": "markdown",
   "metadata": {},
   "source": [
    "### Cómo usar NumPy\n"
   ]
  },
  {
   "cell_type": "markdown",
   "metadata": {},
   "source": [
    "\n",
    "+ Crear una matriz 1D y 2D:\n"
   ]
  },
  {
   "cell_type": "code",
   "execution_count": 3,
   "metadata": {},
   "outputs": [
    {
     "name": "stdout",
     "output_type": "stream",
     "text": [
      "Crear una matriz 1D y 2D\n",
      "1D array:\n",
      "[1 2 3]\n",
      "2D array:\n",
      "[[1 2 3]\n",
      " [4 5 6]]\n"
     ]
    }
   ],
   "source": [
    "print(\"Crear una matriz 1D y 2D\")\n",
    "b = np.array([1,2,3])\n",
    "print(\"1D array:\")\n",
    "print(b)\n",
    "b = np.array([ (1,2,3), (4,5,6) ])\n",
    "print(\"2D array:\")\n",
    "print(b)"
   ]
  },
  {
   "cell_type": "markdown",
   "metadata": {},
   "source": [
    "+ Crear matrices de ceros, vacías, random y de un solo valor\n"
   ]
  },
  {
   "cell_type": "code",
   "execution_count": 7,
   "metadata": {},
   "outputs": [
    {
     "name": "stdout",
     "output_type": "stream",
     "text": [
      "Crear matrices de ceros, vacías y random\n",
      "[[0. 0. 0. 0.]\n",
      " [0. 0. 0. 0.]\n",
      " [0. 0. 0. 0.]]\n",
      "\n",
      "[[0. 0. 0. 0.]\n",
      " [0. 0. 0. 0.]\n",
      " [0. 0. 0. 0.]]\n",
      "\n",
      "[[0.44239169 0.06590335 0.67627295 0.00712602]\n",
      " [0.88339864 0.16195002 0.90447657 0.57299399]\n",
      " [0.38363804 0.03561679 0.67585772 0.17230578]]\n",
      "\n",
      "[[7 7 7 7]\n",
      " [7 7 7 7]\n",
      " [7 7 7 7]]\n"
     ]
    },
    {
     "ename": "IndexError",
     "evalue": "index 10 is out of bounds for axis 0 with size 10",
     "output_type": "error",
     "traceback": [
      "\u001b[1;31m---------------------------------------------------------------------------\u001b[0m",
      "\u001b[1;31mIndexError\u001b[0m                                Traceback (most recent call last)",
      "\u001b[1;32mc:\\Users\\atgru\\OneDrive\\Escritorio\\ESTUDIOS\\Python\\Cuadernos\\Apuntes Numpy.ipynb Cell 12'\u001b[0m in \u001b[0;36m<module>\u001b[1;34m\u001b[0m\n\u001b[0;32m     <a href='vscode-notebook-cell:/c%3A/Users/atgru/OneDrive/Escritorio/ESTUDIOS/Python/Cuadernos/Apuntes%20Numpy.ipynb#ch0000011?line=9'>10</a>\u001b[0m a \u001b[39m=\u001b[39m (np\u001b[39m.\u001b[39mzeros((\u001b[39m10\u001b[39m)))\n\u001b[0;32m     <a href='vscode-notebook-cell:/c%3A/Users/atgru/OneDrive/Escritorio/ESTUDIOS/Python/Cuadernos/Apuntes%20Numpy.ipynb#ch0000011?line=10'>11</a>\u001b[0m np\u001b[39m.\u001b[39msize(a)\n\u001b[1;32m---> <a href='vscode-notebook-cell:/c%3A/Users/atgru/OneDrive/Escritorio/ESTUDIOS/Python/Cuadernos/Apuntes%20Numpy.ipynb#ch0000011?line=11'>12</a>\u001b[0m a[\u001b[39m10\u001b[39;49m]\n",
      "\u001b[1;31mIndexError\u001b[0m: index 10 is out of bounds for axis 0 with size 10"
     ]
    }
   ],
   "source": [
    "print(\"Crear matrices de ceros, vacías y random\")\n",
    "ceros = np.zeros((3,4))\n",
    "print(f'{ceros}' + \"\\n\")\n",
    "empty = np.empty((3,4))\n",
    "print(f'{empty}' + \"\\n\")\n",
    "random = np.random.random((3,4))\n",
    "print(f'{random}' + \"\\n\")\n",
    "full = np.full((3,4), 7)\n",
    "print(f'{full}')"
   ]
  },
  {
   "cell_type": "markdown",
   "metadata": {},
   "source": [
    "+ Crear matrices con valores espaciados uniformemente\n"
   ]
  },
  {
   "cell_type": "code",
   "execution_count": 5,
   "metadata": {},
   "outputs": [
    {
     "name": "stdout",
     "output_type": "stream",
     "text": [
      "Crear matriz con valores espaciados uniformemente\n",
      "[ 1  2  3  4  5  6  7  8  9 10 11 12 13 14]\n",
      "\n",
      "[0.  0.5 1.  1.5 2. ]\n"
     ]
    }
   ],
   "source": [
    "print(\"Crear matriz con valores espaciados uniformemente\")\n",
    "espacio1 = np.arange(1,15,1) #Comienzo, fin y paso\n",
    "print(f'{espacio1}' + \"\\n\")\n",
    "espacio2 = np.linspace(0,2,5) #Matriz entre 0 y 2 con 5 valores\n",
    "print(f'{espacio2}')"
   ]
  },
  {
   "cell_type": "markdown",
   "metadata": {},
   "source": [
    "+ Crear matriz de unos en la diagonal\n"
   ]
  },
  {
   "cell_type": "code",
   "execution_count": 6,
   "metadata": {},
   "outputs": [
    {
     "name": "stdout",
     "output_type": "stream",
     "text": [
      "Crear matriz de unos en la diagonal\n",
      "[[1. 0. 0.]\n",
      " [0. 1. 0.]\n",
      " [0. 0. 1.]\n",
      " [0. 0. 0.]]\n",
      "\n",
      "[[1. 0. 0. 0.]\n",
      " [0. 1. 0. 0.]\n",
      " [0. 0. 1. 0.]\n",
      " [0. 0. 0. 1.]]\n"
     ]
    }
   ],
   "source": [
    "print(\"Crear matriz de unos en la diagonal\")\n",
    "identidad1 = np.eye(4,3) # Crea matriz con unos en la diagonal \n",
    "print(f'{identidad1}' + \"\\n\")\n",
    "identidad2 = np.identity(4) # Crea matriz identidad\n",
    "print(f'{identidad2}')"
   ]
  },
  {
   "cell_type": "markdown",
   "metadata": {},
   "source": [
    "+ Conocer la dimensión, forma, tipo de dato y memoria ocupada de una matriz\n"
   ]
  },
  {
   "cell_type": "code",
   "execution_count": 7,
   "metadata": {},
   "outputs": [
    {
     "name": "stdout",
     "output_type": "stream",
     "text": [
      "Conocer la dimensión, forma, tipo de dato y memoria ocupada de una matriz\n",
      "[[[100 100 100 100 100]\n",
      "  [100 100 100 100 100]\n",
      "  [100 100 100 100 100]]\n",
      "\n",
      " [[100 100 100 100 100]\n",
      "  [100 100 100 100 100]\n",
      "  [100 100 100 100 100]]]\n",
      "\tDimensión: 3\n",
      "\tTamaño: 30\n",
      "\tForma: (2, 3, 5)\n",
      "\tTipo de dato: int32\n",
      "\tMemoria ocupada: 120 bytes\n"
     ]
    }
   ],
   "source": [
    "print(\"Conocer la dimensión, forma, tipo de dato y memoria ocupada de una matriz\")\n",
    "a = np.full((2,3,5), 100)\n",
    "dim = a.ndim\n",
    "size = a.size\n",
    "shape = a.shape\n",
    "tipo = a.dtype\n",
    "mem = a.nbytes\n",
    "print(f'{a}')\n",
    "print(\"\\tDimensión: \" + f'{dim}')\n",
    "print(\"\\tTamaño: \" + f'{size}')\n",
    "print(\"\\tForma: \" + f'{shape}')\n",
    "print(\"\\tTipo de dato: \" + f'{tipo}')\n",
    "print(\"\\tMemoria ocupada: \" + f'{mem}' + \" bytes\")"
   ]
  },
  {
   "cell_type": "markdown",
   "metadata": {},
   "source": [
    "+ Operaciones con matrices\n"
   ]
  },
  {
   "cell_type": "code",
   "execution_count": 9,
   "metadata": {},
   "outputs": [
    {
     "name": "stdout",
     "output_type": "stream",
     "text": [
      "Operaciones con matrices\n",
      "[[100   1   2   3   4]\n",
      " [  5   6   7   8   9]\n",
      " [ 10  11  12  13  14]\n",
      " [ 16  17  18  19  20]\n",
      " [ 21  22  23  24  25]]\n",
      "\n",
      "- Extraer un solo valor:\n",
      "\tFila 1, columna 3: 8\n",
      "\n",
      "\n",
      "- Extraer todas las filas de una columna:\n",
      "\tValores de la columna 3: [ 3  8 13 19 24]\n",
      "\n",
      "\n",
      "- Valores mínimos, máximos y suma de valores de una matriz:\n",
      "\tValor mínimo: 1\n",
      "\tValor máximo: 100\n",
      "\tSuma de valores: 410\n",
      "\n",
      "- Suma, resta, multiplicación, división, riz cuadrada y desviación estándar:\n",
      "\tSuma:\n",
      "[[101.   1.   2.   3.   4.]\n",
      " [  5.   7.   7.   8.   9.]\n",
      " [ 10.  11.  13.  13.  14.]\n",
      " [ 16.  17.  18.  20.  20.]\n",
      " [ 21.  22.  23.  24.  26.]]\n",
      "\n",
      "\tResta:\n",
      "[[99.  1.  2.  3.  4.]\n",
      " [ 5.  5.  7.  8.  9.]\n",
      " [10. 11. 11. 13. 14.]\n",
      " [16. 17. 18. 18. 20.]\n",
      " [21. 22. 23. 24. 24.]]\n",
      "\n",
      "\tMultiplicación escalar:\n",
      "[[100.   0.   0.   0.   0.]\n",
      " [  0.   6.   0.   0.   0.]\n",
      " [  0.   0.  12.   0.   0.]\n",
      " [  0.   0.   0.  19.   0.]\n",
      " [  0.   0.   0.   0.  25.]]\n",
      "\n",
      "\tMultiplicación matricial:\n",
      "[[100.   1.   2.   3.   4.]\n",
      " [  5.   6.   7.   8.   9.]\n",
      " [ 10.  11.  12.  13.  14.]\n",
      " [ 16.  17.  18.  19.  20.]\n",
      " [ 21.  22.  23.  24.  25.]]\n",
      "\n",
      "\tDivisión:\n",
      "[[0.01       0.         0.         0.         0.        ]\n",
      " [0.         0.16666667 0.         0.         0.        ]\n",
      " [0.         0.         0.08333333 0.         0.        ]\n",
      " [0.         0.         0.         0.05263158 0.        ]\n",
      " [0.         0.         0.         0.         0.04      ]]\n",
      "\n",
      "\tRaíz cuadrada:\n",
      "[[10.          1.          1.41421356  1.73205081  2.        ]\n",
      " [ 2.23606798  2.44948974  2.64575131  2.82842712  3.        ]\n",
      " [ 3.16227766  3.31662479  3.46410162  3.60555128  3.74165739]\n",
      " [ 4.          4.12310563  4.24264069  4.35889894  4.47213595]\n",
      " [ 4.58257569  4.69041576  4.79583152  4.89897949  5.        ]]\n",
      "\n",
      "\tDesviación estándar: 18.52133904446436\n"
     ]
    }
   ],
   "source": [
    "print(\"Operaciones con matrices\")\n",
    "a = np.array([ (100,1,2,3,4), (5,6,7,8,9), (10,11,12,13,14), (16,17,18,19,20), (21,22,23,24,25)])\n",
    "print(a)\n",
    "\n",
    "print(\"\\n- Extraer un solo valor:\")\n",
    "only_value = a[1,3]\n",
    "print(\"\\tFila 1, columna 3: \" + f'{only_value}' + \"\\n\")\n",
    "\n",
    "print(\"\\n- Extraer todas las filas de una columna:\")\n",
    "fila = a[0:,3] # Valores de la columna 2 desde la fila 0 hasta el final\n",
    "print(\"\\tValores de la columna 3: \" + f'{fila}' + \"\\n\")\n",
    "\n",
    "print(\"\\n- Valores mínimos, máximos y suma de valores de una matriz:\")\n",
    "min = a.min()\n",
    "max = a.max()\n",
    "sum = a.sum()\n",
    "print(\"\\tValor mínimo: \" + f'{min}')\n",
    "print(\"\\tValor máximo: \" + f'{max}')\n",
    "print(\"\\tSuma de valores: \" + f'{sum}')\n",
    "\n",
    "print(\"\\n- Suma, resta, multiplicación, división, riz cuadrada y desviación estándar:\")\n",
    "i = np.identity(5)\n",
    "print(\"\\tSuma:\\n\" + f'{a+i}' + \"\\n\")\n",
    "print(\"\\tResta:\\n\" + f'{a-i}' + \"\\n\")\n",
    "print(\"\\tMultiplicación escalar:\\n\" + f'{a*i}' + \"\\n\")\n",
    "print(\"\\tMultiplicación matricial:\\n\" + f'{np.dot(a,i)}' + \"\\n\")\n",
    "print(\"\\tDivisión:\\n\" + f'{i/a}' + \"\\n\")\n",
    "print(\"\\tRaíz cuadrada:\\n\" + f'{np.sqrt(a)}' + \"\\n\")\n",
    "print(\"\\tDesviación estándar: \" + f'{np.std(a)}')"
   ]
  },
  {
   "cell_type": "code",
   "execution_count": null,
   "metadata": {},
   "outputs": [],
   "source": [
    "# TRANSFORMADA RÁPIDA DE FOURIER EN TIEMPO DISCRETO\n",
    "\n",
    "import matplotlib.pyplot as plt\n",
    "import numpy as np\n",
    "\n",
    "N = 500 #Nº DE MUESTRAS\n",
    "T = 1.0 / 600.0\n",
    "x = np.linspace(0.0, N*T, N)\n",
    "y = np.sin(60.0 * 2.0*np.pi*x) + 0.5*np.sin(90.0 * 2.0*np.pi*x)\n",
    "y_f = np.fft.fft(y)\n",
    "x_f = np.linspace(0.0, 1.0/(2.0*T), N//2)\n",
    "\n",
    "plt.plot(x_f, 2.0/N * np.abs(y_f[:N//2]))\n",
    "plt.show()"
   ]
  }
 ],
 "metadata": {
  "interpreter": {
   "hash": "16783cd8bad6790e5f4db53c04af9cc703ca71052de8f1fa68bfa33f16f04689"
  },
  "kernelspec": {
   "display_name": "Python 3 (ipykernel)",
   "language": "python",
   "name": "python3"
  },
  "language_info": {
   "codemirror_mode": {
    "name": "ipython",
    "version": 3
   },
   "file_extension": ".py",
   "mimetype": "text/x-python",
   "name": "python",
   "nbconvert_exporter": "python",
   "pygments_lexer": "ipython3",
   "version": "3.10.2"
  }
 },
 "nbformat": 4,
 "nbformat_minor": 2
}
