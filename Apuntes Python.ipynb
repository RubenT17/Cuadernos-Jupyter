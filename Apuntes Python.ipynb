{
 "cells": [
  {
   "cell_type": "markdown",
   "metadata": {},
   "source": [
    "# <h1><center>**APUNTES BÁSICOS PARA PYTHON**</center></h1>"
   ]
  },
  {
   "cell_type": "markdown",
   "metadata": {},
   "source": [
    "### Introducción\n",
    "Python es un lenguaje de programación interpretado cuya filosofía hace hincapié en la legibilidad de su código. Se trata de un lenguaje de programación multiparadigma, ya que soporta parcialmente la orientación a objetos, programación imperativa y, en menor medida, programación funcional. Es un lenguaje interpretado, dinámico y multiplataforma. Se debe tener en cuenta que Python **trabaja con indexaciones**."
   ]
  },
  {
   "cell_type": "markdown",
   "metadata": {},
   "source": [
    "### Comandos básicos"
   ]
  },
  {
   "cell_type": "markdown",
   "metadata": {},
   "source": [
    "+ Comentarios"
   ]
  },
  {
   "cell_type": "code",
   "execution_count": null,
   "metadata": {},
   "outputs": [],
   "source": [
    "# Así se hacen comentarios de una sola línea\n",
    "\"\"\"\n",
    "    Así se pueden hacer comentarios de más\n",
    "    de una línea.\n",
    "\"\"\"\n",
    "\n",
    "# Para hacer comentarios múltiples de una sola línea en Visual Studio Code, pulsar Ctrl+K+C y para quitarlos, pulsar Ctrl+K+U\n"
   ]
  },
  {
   "cell_type": "markdown",
   "metadata": {},
   "source": [
    "+ Importar librerías o *sketchs*:"
   ]
  },
  {
   "cell_type": "code",
   "execution_count": null,
   "metadata": {},
   "outputs": [],
   "source": [
    "import numpy, sys                   # Importa una o varias librerías completas a la que se le añadirá el prefijo \"nombre_librería\" antes de la función --> numpy.array()\n",
    "import pandas as pd                 # Importa una librería a la que se le añadirá el prefijo \"nombre_prefijo\" antes de la función --> pd.DataFrame\n",
    "from IPython.display import HTML    # Importa una sola función de una librería\n",
    "from tkinter import *               # Importa una librería sin tenerle que poner prefijo. Esto puede tener inconsistencias si hay más de una función con el mismo nombre\n",
    "\n",
    "# Para más información y para descargas de librerías\n",
    "\"https://pypi.org/\""
   ]
  },
  {
   "cell_type": "markdown",
   "metadata": {},
   "source": [
    "+ Funciones de entrada y salida"
   ]
  },
  {
   "cell_type": "code",
   "execution_count": 1,
   "metadata": {},
   "outputs": [
    {
     "name": "stdout",
     "output_type": "stream",
     "text": [
      "Función print\n",
      "Hola Rubén Torres\n",
      "Tu edad es: 22\n",
      "\n",
      "25.5\n"
     ]
    }
   ],
   "source": [
    "print('Función print')                                                          # Muestra en el cmd lo que haya en el interior\n",
    "nombre = 'Rubén' \n",
    "apellido = \"Torres\"\n",
    "edad = 22\n",
    "print('Hola ' + nombre + ' ' + apellido + '\\nTu edad es: ' + f'{edad}' + '\\n')    # IMPORTANTE poner f'{variable}' si se va a mezclar string con variables\n",
    "\n",
    "try:\n",
    "    x = input ('Introduce un número y pulsa enter: ')                           # Devuelve lo escrito en forma de char\n",
    "    print(float(x) + 20.5)                                                      # Transforma un tipo en otro --> int() ó float ()\n",
    "except:\n",
    "    print(\"ERROR\")"
   ]
  },
  {
   "cell_type": "markdown",
   "metadata": {},
   "source": [
    "+ Funciones de ayuda"
   ]
  },
  {
   "cell_type": "code",
   "execution_count": null,
   "metadata": {},
   "outputs": [],
   "source": [
    "print(type(nombre))   # Muestra el tipo de variable\n",
    "print()\n",
    "print(dir(nombre))    # Muestra las funciones que se le pueden aplicar\n",
    "print()\n",
    "print(help(pd))     # Muestra una ayuda de la función"
   ]
  },
  {
   "cell_type": "markdown",
   "metadata": {},
   "source": [
    "+ Operaciones matemáticas"
   ]
  },
  {
   "cell_type": "code",
   "execution_count": null,
   "metadata": {},
   "outputs": [],
   "source": [
    "print(\"Elevar 2 al cubo: \" + f'{2**3}')                     # Elevar a un número\n",
    "print(\"Dividir 4 entre 3 con decimales: \" + f'{4/3}')       # Dividir un número con return float\n",
    "print(\"Dividir 4 entre 3 sin decimales: \" + f'{4//3}')      # Dividir un número con return int\n",
    "print(\"Resto de dividir 4 entre 3: \" + f'{4%3}')           # Dividir un número con return resto int\n"
   ]
  },
  {
   "cell_type": "markdown",
   "metadata": {},
   "source": [
    "+ Funciones con strings"
   ]
  },
  {
   "cell_type": "code",
   "execution_count": null,
   "metadata": {},
   "outputs": [],
   "source": [
    "# ** NINGUNA FUNCIÓN SOBREESCRIBE LA STRING\n",
    "nombre = \"Rubén Torres Bermúdez\"\n",
    "print(\"String en mayúsculas: \" + f'{nombre.upper()}')                                     # Pone en mayúsculas la string (Lower es el contrario)\n",
    "print(\"Poner mayúscula la primera letra de la string: \" + f'{nombre.capitalize()}')       # Upper en la primera letra de la string y lower en las demás\n",
    "print(\"Conmutar de mayúsculas a minúsculas: \" + f'{nombre.swapcase()}')                   # Cambia mayúsculas por minúsculas\n",
    "text = '\\tÉrase una vez en algún lugar de La Mancha... La Mancha era un lugar bonito.'\n",
    "print(\"Texto con reemplazo:\")\n",
    "print(text.replace ('La Mancha', 'Gelves'))                                             # Reemplaza la 1ª cadena por la segunda en toda la string\n",
    "count = text.count('La Mancha')\n",
    "print(\"Número de veces que sale \\\"La Mancha\\\": \" + f'{count}')                          # Cuenta el número de cadenas iguales en la string completa\n",
    "print(text.split(' '))                                                                  # Crea una lista de cadenas individuales de la string dividida por el carácter entre paréntesis\n",
    "find = text.find('x')                                                                   # Te da el la posición del primer carárcter igual al de entre paréntesis que encuentre (-1 = no existe)\n",
    "print(\"Posición de caracter \\\"x\\\": \" + f'{find}')\n",
    "print(\"Longitud texto: \" + f'{len(text)}') # Te da la longitud de la string\n",
    "print(\"Caracter nº3 del texto: \" + f'{text[3]}') # Selecciona el carácter número 3 de la string"
   ]
  },
  {
   "cell_type": "markdown",
   "metadata": {},
   "source": [
    "+ Funciones de listas o matrices"
   ]
  },
  {
   "cell_type": "code",
   "execution_count": null,
   "metadata": {},
   "outputs": [],
   "source": [
    "lista =  [0,'aaaa',2,3.4,4,5]\n",
    "matriz = [['a','b',6,'d',4.7], [':)',8,':)','i']]\n",
    "print(list(range(5,10)))        # Crea una lista del primer número hasta la posición del segundo (la primera posición es 0)\n",
    "print (matriz [0][4])           # Seleccionar la posición [f] [c]\n",
    "print(len(matriz))              # En una matriz da el número de vectores [f] y en una lista el número de elementos [c]\n",
    "print('c' in matriz)            # Devuelve TRUE si es está y FALSE si no está\n",
    "print(lista.index('aaaa'))      # Devuelve el índice del elemento entre paréntesis, si no existe da error\n",
    "print (matriz[1].count(':)'))\n",
    "\n",
    "#ESTAS FUNCIONES SOBREESCRIBEN Y DEVUELVEN NONE\n",
    "matriz[0].extend(['primera',5690506959])            # Extiende por el final la matriz o lista elegida con el vector entre paréntesis\n",
    "matriz[1].extend(['segunda', 565545454])\n",
    "print(matriz)\n",
    "matriz[1].insert(1, 'El siguiente elemento es 8')   # Inserta en la posición entre paréntesis la cadena o variable entre paréntesis\n",
    "print(matriz)\n",
    "matriz[0].pop (6)                                   # Elimina el elemento de la posición entre paréntesis o por defecto (pop() --> vacío), el último elemento\n",
    "matriz[1].remove(':)')                              # Elimina el elemento entre paréntesis del vector o lista seleccionado SÓLO EL PRIMERO\n",
    "print (matriz)\n",
    "matriz.clear()                                      # Limpia la matriz\n",
    "print (matriz)\n",
    "matriz = [['A','b', 'B', 'a'], ['A','b', 'B', 'C']]\n",
    "matriz[1].sort (reverse=True)                       # Ordena alfabéticamente en reverso el vector o lista seleccionado\n",
    "print (matriz)"
   ]
  },
  {
   "cell_type": "markdown",
   "metadata": {},
   "source": [
    "+ Funciones de tuplas (listas inmutables)"
   ]
  },
  {
   "cell_type": "code",
   "execution_count": null,
   "metadata": {},
   "outputs": [],
   "source": [
    "# Se manejan igual que las listas pero no tienen las funciones que sobreescriben, ya que son inmutables (const)\n",
    "tupla = (1,2,3,4)\n",
    "print(tupla)\n",
    "del tupla           # Borra completamente cualquier variable\n",
    "# print(tupla)        # Da TypeError porque se ha borrado completamente la variable tupla"
   ]
  },
  {
   "cell_type": "markdown",
   "metadata": {},
   "source": [
    "+ Funciones de sets"
   ]
  },
  {
   "cell_type": "code",
   "execution_count": null,
   "metadata": {},
   "outputs": [],
   "source": [
    "# Se manejan igual que las listas pero no tienen orden (index)"
   ]
  },
  {
   "cell_type": "markdown",
   "metadata": {},
   "source": [
    "+ Funciones de diccionarios"
   ]
  },
  {
   "cell_type": "code",
   "execution_count": null,
   "metadata": {},
   "outputs": [],
   "source": [
    "person = {\n",
    "    'name': 'Rubén',\n",
    "    'lastname': 'Torres Bermúdez',\n",
    "    'age': 14\n",
    "}\n",
    "print(dir(person))\n",
    "print(person)"
   ]
  },
  {
   "cell_type": "markdown",
   "metadata": {},
   "source": [
    "+ Funciones condicionales"
   ]
  },
  {
   "cell_type": "code",
   "execution_count": null,
   "metadata": {},
   "outputs": [],
   "source": [
    "x = 99\n",
    "lista.clear()\n",
    "lista = ['a','b','c','d','e']\n",
    "\n",
    "if x<10:\n",
    "    print('La variable es menor que 10')\n",
    "elif x<50:\n",
    "    print(print('La variable es menor que 50'))\n",
    "elif x>50 and x<100:\n",
    "    print ('La variable es mayor que 50 y menor que 100')\n",
    "else:\n",
    "    print('La variable es mayor que 100')\n",
    "\n",
    "flag=0\n",
    "for i in lista:\n",
    "    if i == 'b' and flag !=1:\n",
    "        flag = 1 \n",
    "        continue        # Continúa con la siguiente ejecucion del bucle for sin leer lo demás de debajo\n",
    "    else: print (i)\n",
    "    if i == 'd':\n",
    "        break           # Rompe y sale del bucle for\n",
    "    \n",
    "else:                   # Se ejecutará siempre y cuando no haya llegado a ejecutarse un break en el bucle for\n",
    "    print ('No se encontró el carácter de finalización')\n",
    "\n",
    "\n",
    "count = 0\n",
    "while count<3:\n",
    "    print(x)\n",
    "    count += 1"
   ]
  },
  {
   "cell_type": "markdown",
   "metadata": {},
   "source": [
    "+ Funciones locales"
   ]
  },
  {
   "cell_type": "code",
   "execution_count": null,
   "metadata": {},
   "outputs": [],
   "source": [
    "def Func_Local (a, b):\n",
    "    return a + ' ' + b\n",
    "\n",
    "print (Func_Local('Hola', 'Rubén'))\n",
    "\n",
    "\n",
    "add = lambda a, b: a+b      # Esto es una función lambda, solo puede ejecutar una línea de código y por defecto devuelve lo de después de los dos puntos\n",
    "\n",
    "print (add(1,3))"
   ]
  },
  {
   "cell_type": "markdown",
   "metadata": {},
   "source": [
    "### Parámetros de funciones"
   ]
  },
  {
   "cell_type": "markdown",
   "metadata": {},
   "source": [
    "+ Parámetros posicionales y opcionales\n",
    "\n",
    "Estos parámetros se usan en funciones tales como:"
   ]
  },
  {
   "cell_type": "code",
   "execution_count": null,
   "metadata": {},
   "outputs": [],
   "source": [
    "def presentacion (remitente, destinatario, mensaje=\"\", saludo=\"\\r\\n\\nUn cordial saludo.\\r\\n\"):\n",
    "    text = \"Buenos días \" + destinatario + \", soy \" + remitente + \".\\n\"\n",
    "    text += mensaje\n",
    "    text += saludo\n",
    "    return text"
   ]
  },
  {
   "cell_type": "markdown",
   "metadata": {},
   "source": [
    "Se observa que:\n",
    "1.  Los parámetros \"remitente\" y \"destinatario\" NO son opcionales, es decir, son argumentos que siempre deben estar al llamar a la función y siguiendo ese órden.\n",
    "2.  Los parámetros \"mensaje\" y \"saludo\" son opcionales y si no se llaman, su valor por defecto será el que se ve en la función.\n",
    "\n",
    "Podríamos usar la función posicionalmente como sigue:"
   ]
  },
  {
   "cell_type": "code",
   "execution_count": null,
   "metadata": {},
   "outputs": [],
   "source": [
    "print(presentacion(\"Rubén\", \"Desirée\", \"Este texto es para ti.\"))"
   ]
  },
  {
   "cell_type": "markdown",
   "metadata": {},
   "source": [
    "También la podemos usar especificando los parámetros en otro orden:"
   ]
  },
  {
   "cell_type": "code",
   "execution_count": null,
   "metadata": {},
   "outputs": [],
   "source": [
    "print(presentacion(destinatario=\"Rubén\", remitente=\"Desirée\", saludo=\"\\r\\n\\njaja salu2\"))"
   ]
  },
  {
   "cell_type": "markdown",
   "metadata": {},
   "source": [
    "+ Parámetro *args\n",
    "\n",
    "Este parámetro se incluye en las funciones cuando se quiere recibir un número variable de elementos posicionales.\n",
    "\n",
    "Hay que acalrar que:\n",
    "1. Lo único que especifica el parámetro es el \"*\", la palabra \"args\" es un convenio.\n",
    "2. El parámetro se recibe en forma de tupla.\n",
    "3. Es un argumento opcional.\n",
    "4. El orden de recibir los datos SI importa (posicional)\n",
    "\n",
    "Veamos un ejemplo:"
   ]
  },
  {
   "cell_type": "code",
   "execution_count": null,
   "metadata": {},
   "outputs": [],
   "source": [
    "def suma_noargs (a, b):\n",
    "    return a+b\n",
    "\n",
    "\n",
    "def suma(*args):\n",
    "    total = 0\n",
    "    for n in args:\n",
    "        total += n\n",
    "    return total\n",
    "\n",
    "print(suma(9,2,3,5,6,4,2,2,1))\n",
    "print(suma(2,3,4))\n",
    "print(suma(2))\n",
    "\n",
    "print(suma_noargs(1,2,3))"
   ]
  },
  {
   "cell_type": "markdown",
   "metadata": {},
   "source": [
    "> NOTA: Se observa que si usamos la funcion \"suma_noargs\" nos da error si queremos sumar más de dos elementos, mientras que si usamos la función \"suma\", la cual contiene un parámetro \"*args\", no importa el número de elementos que reciba. "
   ]
  },
  {
   "cell_type": "markdown",
   "metadata": {},
   "source": [
    "* Parámetro **kwargs\n",
    "\n",
    "Este parámetro se incluye en las funciones cuando se quiere recibir un número variable de elementos con nombre, no posicionales.\n",
    "\n",
    "Hay que acalrar que:\n",
    "1. Lo único que especifica el parámetro es el \"**\", la palabra \"kwargs\" es un convenio.\n",
    "2. El parámetro se recibe en forma de diccionario.\n",
    "3. Es un argumento opcional.\n",
    "4. Al tener nombre, no son posicionales.\n",
    "\n",
    "Veamos un ejemplo:"
   ]
  },
  {
   "cell_type": "code",
   "execution_count": null,
   "metadata": {},
   "outputs": [],
   "source": [
    "def persona(**kwargs):\n",
    "    print(kwargs)\n",
    "\n",
    "Ruben = persona(nombre=\"Rubén\", altura=1.62, peso=55, fecha_nacimiento=\"17/10/1999\")"
   ]
  },
  {
   "cell_type": "markdown",
   "metadata": {},
   "source": [
    "> NOTA 1: Si se quiere hacer usi de los dos parámetros a la vez se escribirá de la siguiente forma: \n",
    ">\n",
    "> ```def foo(arg1, arg2, *args, **kwargs)```"
   ]
  },
  {
   "cell_type": "markdown",
   "metadata": {},
   "source": [
    "* *args y **kwargs como parámetro de entrada\n",
    "\n",
    "Al igual que se puede pedir los parámetros *args y **kwargs, también se pueden dar estos parámetros:"
   ]
  },
  {
   "cell_type": "code",
   "execution_count": null,
   "metadata": {},
   "outputs": [],
   "source": [
    "def foo(*args, **kwargs):\n",
    "    total = 0\n",
    "    for n in args:\n",
    "        total += n\n",
    "    \n",
    "    print(kwargs)\n",
    "    return total\n",
    "\n",
    "tupla = (2,3,4,5,6,7,8)\n",
    "diccionario = {\"name\": \"Rubén\", \"surname\": \"Torres Bermúdez\", \"age\": 22}\n",
    "\n",
    "foo(*tupla, **diccionario)"
   ]
  },
  {
   "cell_type": "markdown",
   "metadata": {},
   "source": [
    "### Closure, Decorador y Wrapper"
   ]
  },
  {
   "cell_type": "markdown",
   "metadata": {},
   "source": [
    "+ Closure\n",
    "\n",
    "Un **closure** (cierre) es una función anidada que, como característica, recuerdan el valor que se les ha almeacenado anteriormente incluso si no está guardado en la memoria.\n",
    "Los closure pueden evitar el uso de variables globales y pueden ocultar datos."
   ]
  },
  {
   "cell_type": "code",
   "execution_count": null,
   "metadata": {},
   "outputs": [],
   "source": [
    "def closure_multiplicacion(parametro1):     # 1º Esto es un closure\n",
    "    def multiply(parametro2):             \n",
    "        return parametro1 * parametro2      # 5º Cuando se llama a la función \"foo()\" devuelve la multiplicación\n",
    "    return multiply                 # 3º Retorna el objeto función de \"multiply\", es decir, \"foo\" es ahora una función \"multiply\"\n",
    "    \n",
    "foo = closure_multiplicacion(3)     # 2º Llamamos al closure y hacemos que \"foo\" sea un objeto función \n",
    "print(foo(2))                      # 4º Pintamos el valor de la ahora función foo(2)\n",
    "print(foo(3))     \n",
    "\n",
    "\"\"\"Cuando se retorna el objeto de función multiply, éste tiene almacenado la variable \"parametro1\" dentro del objeto, que es\n",
    "    el parámetro que se le ha dado al llamar al closure.\"\"\""
   ]
  },
  {
   "cell_type": "markdown",
   "metadata": {},
   "source": [
    "+ Decorador y Wrapper\n",
    "\n",
    "Un **decorador** es una función que recibe como parámetro otra función y retorna una tercera función  [ a(b) -> c ]. \n",
    "\n",
    "Los decoradores son útiles cuando se quiere modificar el comportamiento de una función existente, pero sin modificar su código. Esto nos sirve para implementar nuevas funcionalidades a una función, es decir, *decorarla*.\n",
    "\n",
    "Un **wrapper** es simplemente la función anidada del decorador. "
   ]
  },
  {
   "cell_type": "code",
   "execution_count": null,
   "metadata": {},
   "outputs": [],
   "source": [
    "# Función decoradora\n",
    "def measure_time(function):     # Función a\n",
    "    def wrapper(*args, **kwargs):   # Función c\n",
    "        # ...Código decorado antes de ejecutar la función decorada ...\n",
    "        import time\n",
    "        tiempo = time.time()\n",
    "\n",
    "        # Función decorada\n",
    "        result = function(*args, **kwargs)  # Función b\n",
    "\n",
    "        # ...Código decorado después de ejecutar la función decorada ...\n",
    "        tiempo = time.time() - tiempo\n",
    "        print(tiempo, 'seconds' )\n",
    "\n",
    "        result = (result, tiempo)\n",
    "        return result\n",
    "\n",
    "    return wrapper\n",
    "\n",
    "\n",
    "# Decoramos la función con \"@\"\n",
    "@measure_time\n",
    "def lista(a, b):\n",
    "    while a<10:\n",
    "        list(range(a,b))\n",
    "        a = a+1\n",
    "    return \"FIN DE CREACIÓN DE LISTAS\"\n",
    "    \n",
    "\n",
    "print(lista(0, 10000000))"
   ]
  },
  {
   "cell_type": "markdown",
   "metadata": {},
   "source": [
    "> NOTA: Este decorador, \"measure_time\" nos sirve para calcular el tiempo que tarda una función en ejecutarse."
   ]
  },
  {
   "cell_type": "markdown",
   "metadata": {},
   "source": [
    "### Funciones y librerías de interés"
   ]
  },
  {
   "cell_type": "code",
   "execution_count": null,
   "metadata": {},
   "outputs": [],
   "source": [
    "import glob         # Librería para comandos de direcciones"
   ]
  },
  {
   "cell_type": "code",
   "execution_count": null,
   "metadata": {},
   "outputs": [],
   "source": [
    "import time                     # Librería para gestión de tiempos\n",
    "time.sleep(1)                   # Pausa en segundos\n",
    "time.time()                     # Tiempo desde inicio en segundos\n",
    "time.strftime(\"%H:%M:%S\")       # Da la hora del sistema\n",
    "time.strftime(\"%d/%m/%Y\")       # Da la fecha del sistema\n"
   ]
  },
  {
   "cell_type": "code",
   "execution_count": 50,
   "metadata": {},
   "outputs": [
    {
     "data": {
      "text/plain": [
       "'c:\\\\Users\\\\atgru\\\\OneDrive\\\\Escritorio\\\\ESTUDIOS'"
      ]
     },
     "execution_count": 50,
     "metadata": {},
     "output_type": "execute_result"
    }
   ],
   "source": [
    "import os                                                   # Librería para comandos del sistema operativo\n",
    "os.system('cls')                                            # Limpia el terminal en Windows     clc = lambda: os.system(\"cls\")\n",
    "os.system('clear')                                          # Limpia el terminal en Linux/Mac\n",
    "os.name                                                     # Devuelve el nombre del SO en clave\n",
    "os.getcwd()                                                 # Devuelve el directorio actual\n",
    "os.path.dirname(os.getcwd())                                # Devuelve el directorio superior al actual\n",
    "os.path.abspath(os.path.join(os.getcwd(), \"../..\"))         # Devuelve el path de 2 directorios superiores "
   ]
  },
  {
   "cell_type": "code",
   "execution_count": null,
   "metadata": {},
   "outputs": [],
   "source": [
    "import sys                              # Librería para comandos de sistema\n",
    "sys.platform.startswith('win')          # Devuelve True si el SO es el que está entre paréntesis"
   ]
  },
  {
   "cell_type": "code",
   "execution_count": 5,
   "metadata": {},
   "outputs": [
    {
     "name": "stdout",
     "output_type": "stream",
     "text": [
      "{'baudrate': 115600, 'bytesize': 8, 'parity': 'N', 'stopbits': 1, 'xonxoff': False, 'dsrdtr': False, 'rtscts': False, 'timeout': 0.005, 'write_timeout': None, 'inter_byte_timeout': None}\n"
     ]
    },
    {
     "ename": "PortNotOpenError",
     "evalue": "Attempting to use a port that is not open",
     "output_type": "error",
     "traceback": [
      "\u001b[1;31m---------------------------------------------------------------------------\u001b[0m",
      "\u001b[1;31mPortNotOpenError\u001b[0m                          Traceback (most recent call last)",
      "\u001b[1;32mc:\\Users\\atgru\\OneDrive\\Escritorio\\ESTUDIOS\\Python\\Cuadernos\\Apuntes Python.ipynb Cell 54'\u001b[0m in \u001b[0;36m<module>\u001b[1;34m\u001b[0m\n\u001b[0;32m      <a href='vscode-notebook-cell:/c%3A/Users/atgru/OneDrive/Escritorio/ESTUDIOS/Python/Cuadernos/Apuntes%20Python.ipynb#ch0000053?line=2'>3</a>\u001b[0m stm32\u001b[39m.\u001b[39mset_buffer_size(rx_size \u001b[39m=\u001b[39m \u001b[39m12800\u001b[39m, tx_size \u001b[39m=\u001b[39m \u001b[39m12800\u001b[39m)\n\u001b[0;32m      <a href='vscode-notebook-cell:/c%3A/Users/atgru/OneDrive/Escritorio/ESTUDIOS/Python/Cuadernos/Apuntes%20Python.ipynb#ch0000053?line=3'>4</a>\u001b[0m \u001b[39mprint\u001b[39m(stm32\u001b[39m.\u001b[39mget_settings())                             \u001b[39m# Muestra la configuraciñon del puerto\u001b[39;00m\n\u001b[1;32m----> <a href='vscode-notebook-cell:/c%3A/Users/atgru/OneDrive/Escritorio/ESTUDIOS/Python/Cuadernos/Apuntes%20Python.ipynb#ch0000053?line=5'>6</a>\u001b[0m stm32\u001b[39m.\u001b[39;49mflushInput()\n\u001b[0;32m      <a href='vscode-notebook-cell:/c%3A/Users/atgru/OneDrive/Escritorio/ESTUDIOS/Python/Cuadernos/Apuntes%20Python.ipynb#ch0000053?line=6'>7</a>\u001b[0m stm32\u001b[39m.\u001b[39mflushOutput()\n\u001b[0;32m     <a href='vscode-notebook-cell:/c%3A/Users/atgru/OneDrive/Escritorio/ESTUDIOS/Python/Cuadernos/Apuntes%20Python.ipynb#ch0000053?line=10'>11</a>\u001b[0m stm32\u001b[39m.\u001b[39mwrite(\u001b[39mb\u001b[39m\u001b[39m\"\u001b[39m\u001b[39ma\u001b[39m\u001b[39m\"\u001b[39m)                                       \u001b[39m# Escribe por el puerto serie (tiene que estar en binario)\u001b[39;00m\n",
      "File \u001b[1;32m~\\AppData\\Roaming\\Python\\Python310\\site-packages\\serial\\serialutil.py:588\u001b[0m, in \u001b[0;36mSerialBase.flushInput\u001b[1;34m(self)\u001b[0m\n\u001b[0;32m    <a href='file:///c%3A/Users/atgru/AppData/Roaming/Python/Python310/site-packages/serial/serialutil.py?line=586'>587</a>\u001b[0m \u001b[39mdef\u001b[39;00m \u001b[39mflushInput\u001b[39m(\u001b[39mself\u001b[39m):\n\u001b[1;32m--> <a href='file:///c%3A/Users/atgru/AppData/Roaming/Python/Python310/site-packages/serial/serialutil.py?line=587'>588</a>\u001b[0m     \u001b[39mself\u001b[39;49m\u001b[39m.\u001b[39;49mreset_input_buffer()\n",
      "File \u001b[1;32m~\\AppData\\Roaming\\Python\\Python310\\site-packages\\serial\\serialwin32.py:354\u001b[0m, in \u001b[0;36mSerial.reset_input_buffer\u001b[1;34m(self)\u001b[0m\n\u001b[0;32m    <a href='file:///c%3A/Users/atgru/AppData/Roaming/Python/Python310/site-packages/serial/serialwin32.py?line=351'>352</a>\u001b[0m \u001b[39m\"\"\"Clear input buffer, discarding all that is in the buffer.\"\"\"\u001b[39;00m\n\u001b[0;32m    <a href='file:///c%3A/Users/atgru/AppData/Roaming/Python/Python310/site-packages/serial/serialwin32.py?line=352'>353</a>\u001b[0m \u001b[39mif\u001b[39;00m \u001b[39mnot\u001b[39;00m \u001b[39mself\u001b[39m\u001b[39m.\u001b[39mis_open:\n\u001b[1;32m--> <a href='file:///c%3A/Users/atgru/AppData/Roaming/Python/Python310/site-packages/serial/serialwin32.py?line=353'>354</a>\u001b[0m     \u001b[39mraise\u001b[39;00m PortNotOpenError()\n\u001b[0;32m    <a href='file:///c%3A/Users/atgru/AppData/Roaming/Python/Python310/site-packages/serial/serialwin32.py?line=354'>355</a>\u001b[0m win32\u001b[39m.\u001b[39mPurgeComm(\u001b[39mself\u001b[39m\u001b[39m.\u001b[39m_port_handle, win32\u001b[39m.\u001b[39mPURGE_RXCLEAR \u001b[39m|\u001b[39m win32\u001b[39m.\u001b[39mPURGE_RXABORT)\n",
      "\u001b[1;31mPortNotOpenError\u001b[0m: Attempting to use a port that is not open"
     ]
    }
   ],
   "source": [
    "import serial       # Librería para serial\n",
    "stm32 = serial.Serial(None, 115600, timeout=0.005)    # Abre y configura el puerto\n",
    "stm32.set_buffer_size(rx_size = 12800, tx_size = 12800)\n",
    "print(stm32.get_settings())                             # Muestra la configuraciñon del puerto\n",
    "\n",
    "stm32.flushInput()\n",
    "stm32.flushOutput()\n",
    "\n",
    "\n",
    "\n",
    "stm32.write(b\"a\")                                       # Escribe por el puerto serie (tiene que estar en binario)\n",
    "#stm32.read_all().decode()                              # Lee todo el buffer serie\n",
    "#stm32.readline().decode().rstrip()                     # Lee una linea del buffer serie\n",
    "stm32.close()                                           # Cierra el puerto"
   ]
  },
  {
   "cell_type": "code",
   "execution_count": null,
   "metadata": {},
   "outputs": [],
   "source": [
    "txt = open(\"./hola.txt\", \"w\")           # Abre un archivo\n",
    "txt.write(\"Hola\\n\" + \"Adiós\")\n",
    "txt.close()                             # Cierra el archivo\n",
    "os.remove(\"./hola.txt\")                 # Borra el directorio"
   ]
  },
  {
   "cell_type": "code",
   "execution_count": null,
   "metadata": {},
   "outputs": [],
   "source": [
    "import threading as th                      # Librería para ejecución multihilo\n",
    "hilo_2 = lambda : print(\"Hilo 2\")\n",
    "th.Thread(target=hilo_2).start()            # Definir hilo y ejecutarlo"
   ]
  },
  {
   "cell_type": "code",
   "execution_count": null,
   "metadata": {},
   "outputs": [],
   "source": [
    "import sympy as sym         # Librería para la visualización de datos en forma matemática\n",
    "# Hace integrales tanto indefinidas como definidas"
   ]
  },
  {
   "cell_type": "code",
   "execution_count": 55,
   "metadata": {},
   "outputs": [
    {
     "name": "stdout",
     "output_type": "stream",
     "text": [
      "24\n"
     ]
    }
   ],
   "source": [
    "import ctypes\n",
    "# gcc -shared -W -o libfactorial.so factorial.c (.dll para Windows)\n",
    "ruta = os.path.dirname(os.getcwd()) + \"\\\\Implementar C\" + '\\\\libfactorial.so'\n",
    "libfactorial = ctypes.CDLL(ruta)                        # Cargamos la libreria \n",
    "libfactorial._factorial.argtypes = (ctypes.c_int,)      # Definimos los tipos de los argumentos de la función factorial\n",
    "libfactorial._factorial.restype = ctypes.c_ulonglong    # Definimos el tipo del retorno de la función factorial\n",
    "def factorial(num):                                     # Creamos nuestra función factorial en Python (Wrapper)\n",
    "    return libfactorial._factorial(num) \n",
    "\n",
    "print(factorial(4))"
   ]
  }
 ],
 "metadata": {
  "interpreter": {
   "hash": "16783cd8bad6790e5f4db53c04af9cc703ca71052de8f1fa68bfa33f16f04689"
  },
  "kernelspec": {
   "display_name": "Python 3 (ipykernel)",
   "language": "python",
   "name": "python3"
  },
  "language_info": {
   "codemirror_mode": {
    "name": "ipython",
    "version": 3
   },
   "file_extension": ".py",
   "mimetype": "text/x-python",
   "name": "python",
   "nbconvert_exporter": "python",
   "pygments_lexer": "ipython3",
   "version": "3.10.2"
  },
  "orig_nbformat": 4
 },
 "nbformat": 4,
 "nbformat_minor": 2
}
